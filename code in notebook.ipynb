{
  "nbformat": 4,
  "nbformat_minor": 0,
  "metadata": {
    "colab": {
      "provenance": []
    },
    "kernelspec": {
      "name": "ir",
      "display_name": "R"
    },
    "language_info": {
      "name": "R"
    }
  },
  "cells": [
    {
      "cell_type": "code",
      "execution_count": 1,
      "metadata": {
        "colab": {
          "base_uri": "https://localhost:8080/"
        },
        "id": "4eQ_MG2wIPIO",
        "outputId": "1c12f61c-4e37-4780-efe8-62c017f39432"
      },
      "outputs": [
        {
          "output_type": "stream",
          "name": "stderr",
          "text": [
            "Loading required package: lattice\n",
            "\n",
            "\n",
            "Attaching package: ‘dplyr’\n",
            "\n",
            "\n",
            "The following objects are masked from ‘package:data.table’:\n",
            "\n",
            "    between, first, last\n",
            "\n",
            "\n",
            "The following objects are masked from ‘package:stats’:\n",
            "\n",
            "    filter, lag\n",
            "\n",
            "\n",
            "The following objects are masked from ‘package:base’:\n",
            "\n",
            "    intersect, setdiff, setequal, union\n",
            "\n",
            "\n",
            "randomForest 4.7-1.1\n",
            "\n",
            "Type rfNews() to see new features/changes/bug fixes.\n",
            "\n",
            "\n",
            "Attaching package: ‘randomForest’\n",
            "\n",
            "\n",
            "The following object is masked from ‘package:dplyr’:\n",
            "\n",
            "    combine\n",
            "\n",
            "\n",
            "The following object is masked from ‘package:ggplot2’:\n",
            "\n",
            "    margin\n",
            "\n",
            "\n"
          ]
        }
      ],
      "source": [
        "\n",
        "library(ggplot2)\n",
        "library(data.table)\n",
        "library(mlbench)\n",
        "library(caret)\n",
        "library(caTools)\n",
        "library(ROCR)\n",
        "library(dplyr)\n",
        "library(e1071)\n",
        "library(randomForest)\n"
      ]
    },
    {
      "cell_type": "markdown",
      "source": [
        "### q1"
      ],
      "metadata": {
        "id": "J_DNUQ6w2glQ"
      }
    },
    {
      "cell_type": "markdown",
      "source": [
        "we do some EDA on our data to indicate that our features are good enough to have a model for predicting or not.\n",
        "\n"
      ],
      "metadata": {
        "id": "Drbr-1HHqFdN"
      }
    },
    {
      "cell_type": "code",
      "source": [
        "\n",
        "d <- fread('/content/diabetes_binary_health_indicators_BRFSS2015.csv', encoding = 'UTF-8')\n",
        "d <- d[!duplicated(d), ]\n",
        "d <- na.omit(d)\n",
        "colnames(d)[1] = \"Diabetes\"\n",
        "head(d)\n",
        "\n"
      ],
      "metadata": {
        "colab": {
          "base_uri": "https://localhost:8080/",
          "height": 306
        },
        "id": "cU8BR1z9IR-y",
        "outputId": "35e10f56-7d5a-4a2c-8785-3f3ccc85443a"
      },
      "execution_count": 130,
      "outputs": [
        {
          "output_type": "display_data",
          "data": {
            "text/html": [
              "<table class=\"dataframe\">\n",
              "<caption>A data.table: 6 × 22</caption>\n",
              "<thead>\n",
              "\t<tr><th scope=col>Diabetes</th><th scope=col>HighBP</th><th scope=col>HighChol</th><th scope=col>CholCheck</th><th scope=col>BMI</th><th scope=col>Smoker</th><th scope=col>Stroke</th><th scope=col>HeartDiseaseorAttack</th><th scope=col>PhysActivity</th><th scope=col>Fruits</th><th scope=col>⋯</th><th scope=col>AnyHealthcare</th><th scope=col>NoDocbcCost</th><th scope=col>GenHlth</th><th scope=col>MentHlth</th><th scope=col>PhysHlth</th><th scope=col>DiffWalk</th><th scope=col>Sex</th><th scope=col>Age</th><th scope=col>Education</th><th scope=col>Income</th></tr>\n",
              "\t<tr><th scope=col>&lt;dbl&gt;</th><th scope=col>&lt;dbl&gt;</th><th scope=col>&lt;dbl&gt;</th><th scope=col>&lt;dbl&gt;</th><th scope=col>&lt;dbl&gt;</th><th scope=col>&lt;dbl&gt;</th><th scope=col>&lt;dbl&gt;</th><th scope=col>&lt;dbl&gt;</th><th scope=col>&lt;dbl&gt;</th><th scope=col>&lt;dbl&gt;</th><th scope=col>⋯</th><th scope=col>&lt;dbl&gt;</th><th scope=col>&lt;dbl&gt;</th><th scope=col>&lt;dbl&gt;</th><th scope=col>&lt;dbl&gt;</th><th scope=col>&lt;dbl&gt;</th><th scope=col>&lt;dbl&gt;</th><th scope=col>&lt;dbl&gt;</th><th scope=col>&lt;dbl&gt;</th><th scope=col>&lt;dbl&gt;</th><th scope=col>&lt;dbl&gt;</th></tr>\n",
              "</thead>\n",
              "<tbody>\n",
              "\t<tr><td>0</td><td>1</td><td>1</td><td>1</td><td>40</td><td>1</td><td>0</td><td>0</td><td>0</td><td>0</td><td>⋯</td><td>1</td><td>0</td><td>5</td><td>18</td><td>15</td><td>1</td><td>0</td><td> 9</td><td>4</td><td>3</td></tr>\n",
              "\t<tr><td>0</td><td>0</td><td>0</td><td>0</td><td>25</td><td>1</td><td>0</td><td>0</td><td>1</td><td>0</td><td>⋯</td><td>0</td><td>1</td><td>3</td><td> 0</td><td> 0</td><td>0</td><td>0</td><td> 7</td><td>6</td><td>1</td></tr>\n",
              "\t<tr><td>0</td><td>1</td><td>1</td><td>1</td><td>28</td><td>0</td><td>0</td><td>0</td><td>0</td><td>1</td><td>⋯</td><td>1</td><td>1</td><td>5</td><td>30</td><td>30</td><td>1</td><td>0</td><td> 9</td><td>4</td><td>8</td></tr>\n",
              "\t<tr><td>0</td><td>1</td><td>0</td><td>1</td><td>27</td><td>0</td><td>0</td><td>0</td><td>1</td><td>1</td><td>⋯</td><td>1</td><td>0</td><td>2</td><td> 0</td><td> 0</td><td>0</td><td>0</td><td>11</td><td>3</td><td>6</td></tr>\n",
              "\t<tr><td>0</td><td>1</td><td>1</td><td>1</td><td>24</td><td>0</td><td>0</td><td>0</td><td>1</td><td>1</td><td>⋯</td><td>1</td><td>0</td><td>2</td><td> 3</td><td> 0</td><td>0</td><td>0</td><td>11</td><td>5</td><td>4</td></tr>\n",
              "\t<tr><td>0</td><td>1</td><td>1</td><td>1</td><td>25</td><td>1</td><td>0</td><td>0</td><td>1</td><td>1</td><td>⋯</td><td>1</td><td>0</td><td>2</td><td> 0</td><td> 2</td><td>0</td><td>1</td><td>10</td><td>6</td><td>8</td></tr>\n",
              "</tbody>\n",
              "</table>\n"
            ],
            "text/markdown": "\nA data.table: 6 × 22\n\n| Diabetes &lt;dbl&gt; | HighBP &lt;dbl&gt; | HighChol &lt;dbl&gt; | CholCheck &lt;dbl&gt; | BMI &lt;dbl&gt; | Smoker &lt;dbl&gt; | Stroke &lt;dbl&gt; | HeartDiseaseorAttack &lt;dbl&gt; | PhysActivity &lt;dbl&gt; | Fruits &lt;dbl&gt; | ⋯ ⋯ | AnyHealthcare &lt;dbl&gt; | NoDocbcCost &lt;dbl&gt; | GenHlth &lt;dbl&gt; | MentHlth &lt;dbl&gt; | PhysHlth &lt;dbl&gt; | DiffWalk &lt;dbl&gt; | Sex &lt;dbl&gt; | Age &lt;dbl&gt; | Education &lt;dbl&gt; | Income &lt;dbl&gt; |\n|---|---|---|---|---|---|---|---|---|---|---|---|---|---|---|---|---|---|---|---|---|\n| 0 | 1 | 1 | 1 | 40 | 1 | 0 | 0 | 0 | 0 | ⋯ | 1 | 0 | 5 | 18 | 15 | 1 | 0 |  9 | 4 | 3 |\n| 0 | 0 | 0 | 0 | 25 | 1 | 0 | 0 | 1 | 0 | ⋯ | 0 | 1 | 3 |  0 |  0 | 0 | 0 |  7 | 6 | 1 |\n| 0 | 1 | 1 | 1 | 28 | 0 | 0 | 0 | 0 | 1 | ⋯ | 1 | 1 | 5 | 30 | 30 | 1 | 0 |  9 | 4 | 8 |\n| 0 | 1 | 0 | 1 | 27 | 0 | 0 | 0 | 1 | 1 | ⋯ | 1 | 0 | 2 |  0 |  0 | 0 | 0 | 11 | 3 | 6 |\n| 0 | 1 | 1 | 1 | 24 | 0 | 0 | 0 | 1 | 1 | ⋯ | 1 | 0 | 2 |  3 |  0 | 0 | 0 | 11 | 5 | 4 |\n| 0 | 1 | 1 | 1 | 25 | 1 | 0 | 0 | 1 | 1 | ⋯ | 1 | 0 | 2 |  0 |  2 | 0 | 1 | 10 | 6 | 8 |\n\n",
            "text/latex": "A data.table: 6 × 22\n\\begin{tabular}{lllllllllllllllllllll}\n Diabetes & HighBP & HighChol & CholCheck & BMI & Smoker & Stroke & HeartDiseaseorAttack & PhysActivity & Fruits & ⋯ & AnyHealthcare & NoDocbcCost & GenHlth & MentHlth & PhysHlth & DiffWalk & Sex & Age & Education & Income\\\\\n <dbl> & <dbl> & <dbl> & <dbl> & <dbl> & <dbl> & <dbl> & <dbl> & <dbl> & <dbl> & ⋯ & <dbl> & <dbl> & <dbl> & <dbl> & <dbl> & <dbl> & <dbl> & <dbl> & <dbl> & <dbl>\\\\\n\\hline\n\t 0 & 1 & 1 & 1 & 40 & 1 & 0 & 0 & 0 & 0 & ⋯ & 1 & 0 & 5 & 18 & 15 & 1 & 0 &  9 & 4 & 3\\\\\n\t 0 & 0 & 0 & 0 & 25 & 1 & 0 & 0 & 1 & 0 & ⋯ & 0 & 1 & 3 &  0 &  0 & 0 & 0 &  7 & 6 & 1\\\\\n\t 0 & 1 & 1 & 1 & 28 & 0 & 0 & 0 & 0 & 1 & ⋯ & 1 & 1 & 5 & 30 & 30 & 1 & 0 &  9 & 4 & 8\\\\\n\t 0 & 1 & 0 & 1 & 27 & 0 & 0 & 0 & 1 & 1 & ⋯ & 1 & 0 & 2 &  0 &  0 & 0 & 0 & 11 & 3 & 6\\\\\n\t 0 & 1 & 1 & 1 & 24 & 0 & 0 & 0 & 1 & 1 & ⋯ & 1 & 0 & 2 &  3 &  0 & 0 & 0 & 11 & 5 & 4\\\\\n\t 0 & 1 & 1 & 1 & 25 & 1 & 0 & 0 & 1 & 1 & ⋯ & 1 & 0 & 2 &  0 &  2 & 0 & 1 & 10 & 6 & 8\\\\\n\\end{tabular}\n",
            "text/plain": [
              "  Diabetes HighBP HighChol CholCheck BMI Smoker Stroke HeartDiseaseorAttack\n",
              "1 0        1      1        1         40  1      0      0                   \n",
              "2 0        0      0        0         25  1      0      0                   \n",
              "3 0        1      1        1         28  0      0      0                   \n",
              "4 0        1      0        1         27  0      0      0                   \n",
              "5 0        1      1        1         24  0      0      0                   \n",
              "6 0        1      1        1         25  1      0      0                   \n",
              "  PhysActivity Fruits ⋯ AnyHealthcare NoDocbcCost GenHlth MentHlth PhysHlth\n",
              "1 0            0      ⋯ 1             0           5       18       15      \n",
              "2 1            0      ⋯ 0             1           3        0        0      \n",
              "3 0            1      ⋯ 1             1           5       30       30      \n",
              "4 1            1      ⋯ 1             0           2        0        0      \n",
              "5 1            1      ⋯ 1             0           2        3        0      \n",
              "6 1            1      ⋯ 1             0           2        0        2      \n",
              "  DiffWalk Sex Age Education Income\n",
              "1 1        0    9  4         3     \n",
              "2 0        0    7  6         1     \n",
              "3 1        0    9  4         8     \n",
              "4 0        0   11  3         6     \n",
              "5 0        0   11  5         4     \n",
              "6 0        1   10  6         8     "
            ]
          },
          "metadata": {}
        }
      ]
    },
    {
      "cell_type": "markdown",
      "source": [
        "we read dataset and drop duplicate and null values.\n",
        "we have 22 column and there are 21 features that may have effect on a diabetes.\n",
        "all of the features are numerical(some of them are categorical but theis values are number)\n"
      ],
      "metadata": {
        "id": "eJHdBnPOqSb1"
      }
    },
    {
      "cell_type": "code",
      "source": [
        "str(d)\n",
        "summary(d)"
      ],
      "metadata": {
        "colab": {
          "base_uri": "https://localhost:8080/",
          "height": 1000
        },
        "id": "afhb86GHKu_2",
        "outputId": "e3b4e1f2-5e80-4f60-bcbc-7b786e10ebae"
      },
      "execution_count": 131,
      "outputs": [
        {
          "output_type": "stream",
          "name": "stdout",
          "text": [
            "Classes ‘data.table’ and 'data.frame':\t229474 obs. of  22 variables:\n",
            " $ Diabetes            : num  0 0 0 0 0 0 0 0 1 0 ...\n",
            " $ HighBP              : num  1 0 1 1 1 1 1 1 1 0 ...\n",
            " $ HighChol            : num  1 0 1 0 1 1 0 1 1 0 ...\n",
            " $ CholCheck           : num  1 0 1 1 1 1 1 1 1 1 ...\n",
            " $ BMI                 : num  40 25 28 27 24 25 30 25 30 24 ...\n",
            " $ Smoker              : num  1 1 0 0 0 1 1 1 1 0 ...\n",
            " $ Stroke              : num  0 0 0 0 0 0 0 0 0 0 ...\n",
            " $ HeartDiseaseorAttack: num  0 0 0 0 0 0 0 0 1 0 ...\n",
            " $ PhysActivity        : num  0 1 0 1 1 1 0 1 0 0 ...\n",
            " $ Fruits              : num  0 0 1 1 1 1 0 0 1 0 ...\n",
            " $ Veggies             : num  1 0 0 1 1 1 0 1 1 1 ...\n",
            " $ HvyAlcoholConsump   : num  0 0 0 0 0 0 0 0 0 0 ...\n",
            " $ AnyHealthcare       : num  1 0 1 1 1 1 1 1 1 1 ...\n",
            " $ NoDocbcCost         : num  0 1 1 0 0 0 0 0 0 0 ...\n",
            " $ GenHlth             : num  5 3 5 2 2 2 3 3 5 2 ...\n",
            " $ MentHlth            : num  18 0 30 0 3 0 0 0 30 0 ...\n",
            " $ PhysHlth            : num  15 0 30 0 0 2 14 0 30 0 ...\n",
            " $ DiffWalk            : num  1 0 1 0 0 0 0 1 1 0 ...\n",
            " $ Sex                 : num  0 0 0 0 0 1 0 0 0 1 ...\n",
            " $ Age                 : num  9 7 9 11 11 10 9 11 9 8 ...\n",
            " $ Education           : num  4 6 4 3 5 6 6 4 5 4 ...\n",
            " $ Income              : num  3 1 8 6 4 8 7 4 1 3 ...\n",
            " - attr(*, \".internal.selfref\")=<externalptr> \n"
          ]
        },
        {
          "output_type": "display_data",
          "data": {
            "text/plain": [
              "    Diabetes          HighBP          HighChol        CholCheck     \n",
              " Min.   :0.0000   Min.   :0.0000   Min.   :0.0000   Min.   :0.0000  \n",
              " 1st Qu.:0.0000   1st Qu.:0.0000   1st Qu.:0.0000   1st Qu.:1.0000  \n",
              " Median :0.0000   Median :0.0000   Median :0.0000   Median :1.0000  \n",
              " Mean   :0.1529   Mean   :0.4543   Mean   :0.4416   Mean   :0.9595  \n",
              " 3rd Qu.:0.0000   3rd Qu.:1.0000   3rd Qu.:1.0000   3rd Qu.:1.0000  \n",
              " Max.   :1.0000   Max.   :1.0000   Max.   :1.0000   Max.   :1.0000  \n",
              "      BMI            Smoker           Stroke        HeartDiseaseorAttack\n",
              " Min.   :12.00   Min.   :0.0000   Min.   :0.00000   Min.   :0.0000      \n",
              " 1st Qu.:24.00   1st Qu.:0.0000   1st Qu.:0.00000   1st Qu.:0.0000      \n",
              " Median :27.00   Median :0.0000   Median :0.00000   Median :0.0000      \n",
              " Mean   :28.69   Mean   :0.4658   Mean   :0.04482   Mean   :0.1033      \n",
              " 3rd Qu.:32.00   3rd Qu.:1.0000   3rd Qu.:0.00000   3rd Qu.:0.0000      \n",
              " Max.   :98.00   Max.   :1.0000   Max.   :1.00000   Max.   :1.0000      \n",
              "  PhysActivity       Fruits          Veggies       HvyAlcoholConsump\n",
              " Min.   :0.000   Min.   :0.0000   Min.   :0.0000   Min.   :0.00000  \n",
              " 1st Qu.:0.000   1st Qu.:0.0000   1st Qu.:1.0000   1st Qu.:0.00000  \n",
              " Median :1.000   Median :1.0000   Median :1.0000   Median :0.00000  \n",
              " Mean   :0.733   Mean   :0.6127   Mean   :0.7946   Mean   :0.06079  \n",
              " 3rd Qu.:1.000   3rd Qu.:1.0000   3rd Qu.:1.0000   3rd Qu.:0.00000  \n",
              " Max.   :1.000   Max.   :1.0000   Max.   :1.0000   Max.   :1.00000  \n",
              " AnyHealthcare    NoDocbcCost         GenHlth         MentHlth    \n",
              " Min.   :0.000   Min.   :0.00000   Min.   :1.000   Min.   : 0.00  \n",
              " 1st Qu.:1.000   1st Qu.:0.00000   1st Qu.:2.000   1st Qu.: 0.00  \n",
              " Median :1.000   Median :0.00000   Median :3.000   Median : 0.00  \n",
              " Mean   :0.946   Mean   :0.09292   Mean   :2.602   Mean   : 3.51  \n",
              " 3rd Qu.:1.000   3rd Qu.:0.00000   3rd Qu.:3.000   3rd Qu.: 2.00  \n",
              " Max.   :1.000   Max.   :1.00000   Max.   :5.000   Max.   :30.00  \n",
              "    PhysHlth         DiffWalk           Sex              Age        \n",
              " Min.   : 0.000   Min.   :0.0000   Min.   :0.0000   Min.   : 1.000  \n",
              " 1st Qu.: 0.000   1st Qu.:0.0000   1st Qu.:0.0000   1st Qu.: 6.000  \n",
              " Median : 0.000   Median :0.0000   Median :0.0000   Median : 8.000  \n",
              " Mean   : 4.681   Mean   :0.1858   Mean   :0.4391   Mean   : 8.085  \n",
              " 3rd Qu.: 4.000   3rd Qu.:0.0000   3rd Qu.:1.0000   3rd Qu.:10.000  \n",
              " Max.   :30.000   Max.   :1.0000   Max.   :1.0000   Max.   :13.000  \n",
              "   Education        Income     \n",
              " Min.   :1.00   Min.   :1.000  \n",
              " 1st Qu.:4.00   1st Qu.:4.000  \n",
              " Median :5.00   Median :6.000  \n",
              " Mean   :4.98   Mean   :5.889  \n",
              " 3rd Qu.:6.00   3rd Qu.:8.000  \n",
              " Max.   :6.00   Max.   :8.000  "
            ]
          },
          "metadata": {}
        }
      ]
    },
    {
      "cell_type": "markdown",
      "source": [
        "as we can see all of our data are in numerical type."
      ],
      "metadata": {
        "id": "86Rjukn3rZNm"
      }
    },
    {
      "cell_type": "code",
      "source": [
        "cor_matrix = cor(d)[, \"Diabetes\"]\n",
        "print(cor_matrix)"
      ],
      "metadata": {
        "colab": {
          "base_uri": "https://localhost:8080/"
        },
        "id": "rPspi40qqxIf",
        "outputId": "a5954034-0052-46b4-a558-e81ffb544e31"
      },
      "execution_count": 133,
      "outputs": [
        {
          "output_type": "stream",
          "name": "stdout",
          "text": [
            "            Diabetes               HighBP             HighChol \n",
            "          1.00000000           0.25431802           0.19494411 \n",
            "           CholCheck                  BMI               Smoker \n",
            "          0.07252338           0.20508596           0.04550399 \n",
            "              Stroke HeartDiseaseorAttack         PhysActivity \n",
            "          0.09919330           0.16821317          -0.10040433 \n",
            "              Fruits              Veggies    HvyAlcoholConsump \n",
            "         -0.02480534          -0.04173376          -0.06595002 \n",
            "       AnyHealthcare          NoDocbcCost              GenHlth \n",
            "          0.02533134           0.02004828           0.27693982 \n",
            "            MentHlth             PhysHlth             DiffWalk \n",
            "          0.05415268           0.15621083           0.20530219 \n",
            "                 Sex                  Age            Education \n",
            "          0.03272416           0.17726335          -0.10268615 \n",
            "              Income \n",
            "         -0.14065874 \n"
          ]
        }
      ]
    },
    {
      "cell_type": "markdown",
      "source": [
        "we dont have a specific feature with high correlation with diabates and the max correlated feature is High blood pressure"
      ],
      "metadata": {
        "id": "8W5Ja7ySrykT"
      }
    },
    {
      "cell_type": "code",
      "source": [
        "\n",
        "d$Diabetes = as.factor(d$Diabetes)\n",
        "\n",
        "ggplot(d , aes(BMI, fill = Diabetes)) +\n",
        "  geom_histogram(alpha = .75) +\n",
        "  facet_grid(Diabetes ~ ., scales = 'free_y')\n",
        "\n",
        "\n",
        "ggplot(d , aes(BMI, fill = Diabetes)) +\n",
        "  geom_density(alpha = .75) +\n",
        "  facet_grid(Diabetes ~ .)\n",
        "\n",
        "\n",
        "ggplot(d , aes(BMI, fill = Diabetes)) +\n",
        "  geom_density(alpha = .75)"
      ],
      "metadata": {
        "colab": {
          "base_uri": "https://localhost:8080/",
          "height": 1000
        },
        "id": "UfLti8UZKxby",
        "outputId": "61a4f9a5-0be4-4ecd-ea97-2f89092db3c9"
      },
      "execution_count": 135,
      "outputs": [
        {
          "output_type": "stream",
          "name": "stderr",
          "text": [
            "\u001b[1m\u001b[22m`stat_bin()` using `bins = 30`. Pick better value with `binwidth`.\n"
          ]
        },
        {
          "output_type": "display_data",
          "data": {
            "text/plain": [
              "plot without title"
            ],
            "image/png": "[encoded data removed]"
          },
          "metadata": {
            "image/png": {
              "width": 420,
              "height": 420
            }
          }
        },
        {
          "output_type": "display_data",
          "data": {
            "text/plain": [
              "plot without title"
            ],
            "image/png": "[encoded data removed]"
          },
          "metadata": {
            "image/png": {
              "width": 420,
              "height": 420
            }
          }
        },
        {
          "output_type": "display_data",
          "data": {
            "text/plain": [
              "plot without title"
            ],
            "image/png": "[encoded data removed]"
          },
          "metadata": {
            "image/png": {
              "width": 420,
              "height": 420
            }
          }
        }
      ]
    },
    {
      "cell_type": "markdown",
      "source": [
        "we analyse BMI feature, as we can see in histogram plot (first plot), our data is unbalanced. so we use density plot and concider this issue to check other balance data in other notebook.\n",
        "by having to plot together, we conclude that,in average, a diabeted person have higher BMI"
      ],
      "metadata": {
        "id": "h5ze7E8AslGA"
      }
    },
    {
      "cell_type": "code",
      "source": [
        "\n",
        "ggplot(d, aes(Age, group=Diabetes, color = Diabetes)) +\n",
        "  geom_boxplot(alpha = 0.75)\n"
      ],
      "metadata": {
        "colab": {
          "base_uri": "https://localhost:8080/",
          "height": 437
        },
        "id": "DhF2YX0QK8Km",
        "outputId": "aa144081-fc3a-45a0-b8f3-1c54440a8742"
      },
      "execution_count": 138,
      "outputs": [
        {
          "output_type": "display_data",
          "data": {
            "text/plain": [
              "plot without title"
            ],
            "image/png": "[encoded data removed]"
          },
          "metadata": {
            "image/png": {
              "width": 420,
              "height": 420
            }
          }
        }
      ]
    },
    {
      "cell_type": "markdown",
      "source": [
        "we can see that the older person is in higher risk of having diabetes"
      ],
      "metadata": {
        "id": "Cuob0DqYuHrK"
      }
    },
    {
      "cell_type": "code",
      "source": [
        "ds = d[, .(n = .N), .(Diabetes, NoDocbcCost)]\n",
        "ds = ds[, n_total := sum(n), .(NoDocbcCost)]\n",
        "ds = ds[, n_percent := n/n_total]\n",
        "\n",
        "ggplot(ds , aes(NoDocbcCost, n_percent, fill = Diabetes)) +\n",
        "  geom_bar(stat = 'identity',)\n",
        "\n"
      ],
      "metadata": {
        "colab": {
          "base_uri": "https://localhost:8080/",
          "height": 437
        },
        "id": "q1Wqyj4JK79A",
        "outputId": "ab829e2a-ec9f-4612-a966-d513680caf7b"
      },
      "execution_count": 140,
      "outputs": [
        {
          "output_type": "display_data",
          "data": {
            "text/plain": [
              "plot without title"
            ],
            "image/png": "[encoded data removed]"
          },
          "metadata": {
            "image/png": {
              "width": 420,
              "height": 420
            }
          }
        }
      ]
    },
    {
      "cell_type": "markdown",
      "source": [
        "NoDocbcCost mean : Was there a time in the past 12 months when you needed to see a doctor but could not because of cost?\n",
        "and we see there is a little differece in our plot so this feature is not useful and in next chapter we see it by metrics"
      ],
      "metadata": {
        "id": "doZY-_CFvwII"
      }
    },
    {
      "cell_type": "code",
      "source": [
        "\n",
        "ds = d[, .(n = .N), .(Diabetes, Sex)]\n",
        "ds = ds[, n_total := sum(n), .(Sex)]\n",
        "ds = ds[, n_percent := n/n_total]"
      ],
      "metadata": {
        "id": "Y0VVAd82K7u1"
      },
      "execution_count": 142,
      "outputs": []
    },
    {
      "cell_type": "code",
      "source": [
        "ggplot(ds[Diabetes!=0,] , aes(as.factor(Sex), n_percent, fill = Diabetes)) +\n",
        "  geom_bar(stat = 'identity',)\n"
      ],
      "metadata": {
        "colab": {
          "base_uri": "https://localhost:8080/",
          "height": 437
        },
        "id": "cGybvdB9LLxc",
        "outputId": "2205dc76-c8f3-48da-e469-61aefe2aaecc"
      },
      "execution_count": 143,
      "outputs": [
        {
          "output_type": "display_data",
          "data": {
            "text/plain": [
              "plot without title"
            ],
            "image/png": "[encoded data removed]"
          },
          "metadata": {
            "image/png": {
              "width": 420,
              "height": 420
            }
          }
        }
      ]
    },
    {
      "cell_type": "markdown",
      "source": [
        "in this plot we that male is in higher risk of getting diabetes."
      ],
      "metadata": {
        "id": "453kD8IbwXeA"
      }
    },
    {
      "cell_type": "code",
      "source": [
        "ds = d[, .(n = .N), .(Diabetes, HighBP)]\n",
        "ds = ds[, n_total := sum(n), .(HighBP)]\n",
        "ds = ds[, n_percent := n/n_total]\n",
        "\n",
        "ggplot(ds , aes(HighBP, n_percent, fill = Diabetes)) +\n",
        "  geom_bar(stat = 'identity',)\n"
      ],
      "metadata": {
        "colab": {
          "base_uri": "https://localhost:8080/",
          "height": 437
        },
        "id": "F2cP9hBVwnFX",
        "outputId": "e65a185a-c0da-4778-e9f5-3bc044e0e59c"
      },
      "execution_count": 144,
      "outputs": [
        {
          "output_type": "display_data",
          "data": {
            "text/plain": [
              "plot without title"
            ],
            "image/png": "[encoded data removed]"
          },
          "metadata": {
            "image/png": {
              "width": 420,
              "height": 420
            }
          }
        }
      ]
    },
    {
      "cell_type": "markdown",
      "source": [
        "this is very good feature(as we saw its corralation with diabetes was highest )\n",
        "we see that a diabetes parson have high blood pressure\n"
      ],
      "metadata": {
        "id": "t8IFrB_OxIBW"
      }
    },
    {
      "cell_type": "markdown",
      "source": [
        "our EDA shows that we  have some good features and we can go on next part"
      ],
      "metadata": {
        "id": "O6LynMy_xJOm"
      }
    },
    {
      "cell_type": "markdown",
      "source": [
        "### Q2 & Q3\n",
        " variable selection and varaible importance"
      ],
      "metadata": {
        "id": "UIPvGcnq2ylm"
      }
    },
    {
      "cell_type": "code",
      "source": [
        "d <- fread('/content/diabetes_binary_health_indicators_BRFSS2015.csv', encoding = 'UTF-8')\n",
        "d <- d[!duplicated(d), ]\n",
        "d <- na.omit(d)\n",
        "colnames(d)[1] = \"Diabetes\"\n",
        "d$Diabetes = as.factor(d$Diabetes)"
      ],
      "metadata": {
        "id": "KCo3OA0ULLuE"
      },
      "execution_count": 146,
      "outputs": []
    },
    {
      "cell_type": "code",
      "source": [
        "set.seed(1)\n",
        "sample <- sample(c(TRUE, FALSE), nrow(d), replace=TRUE, prob=c(0.8,0.2))\n",
        "train_val  <- d[sample, ]\n",
        "test   <- d[!sample, ]\n",
        "sample <- sample(c(TRUE, FALSE), nrow(train_val), replace=TRUE, prob=c(0.75,0.25))\n",
        "train  <- train_val[sample, ]\n",
        "val  <- train_val[!sample, ]\n",
        "sample <- sample(c(TRUE, FALSE), nrow(train), replace=TRUE, prob=c(0.5,0.5))\n",
        "train_small  <- train[sample, ]\n",
        "\n",
        "dim(train)\n",
        "dim(val)\n",
        "dim(test)\n",
        "dim(train_small)\n"
      ],
      "metadata": {
        "id": "6HwSlyXaLLcH",
        "colab": {
          "base_uri": "https://localhost:8080/",
          "height": 86
        },
        "outputId": "12fde34f-cbfb-4a8a-8396-fbe9a7236989"
      },
      "execution_count": 159,
      "outputs": [
        {
          "output_type": "display_data",
          "data": {
            "text/html": [
              "<style>\n",
              ".list-inline {list-style: none; margin:0; padding: 0}\n",
              ".list-inline>li {display: inline-block}\n",
              ".list-inline>li:not(:last-child)::after {content: \"\\00b7\"; padding: 0 .5ex}\n",
              "</style>\n",
              "<ol class=list-inline><li>41506</li><li>22</li></ol>\n"
            ],
            "text/markdown": "1. 41506\n2. 22\n\n\n",
            "text/latex": "\\begin{enumerate*}\n\\item 41506\n\\item 22\n\\end{enumerate*}\n",
            "text/plain": [
              "[1] 41506    22"
            ]
          },
          "metadata": {}
        },
        {
          "output_type": "display_data",
          "data": {
            "text/html": [
              "<style>\n",
              ".list-inline {list-style: none; margin:0; padding: 0}\n",
              ".list-inline>li {display: inline-block}\n",
              ".list-inline>li:not(:last-child)::after {content: \"\\00b7\"; padding: 0 .5ex}\n",
              "</style>\n",
              "<ol class=list-inline><li>13713</li><li>22</li></ol>\n"
            ],
            "text/markdown": "1. 13713\n2. 22\n\n\n",
            "text/latex": "\\begin{enumerate*}\n\\item 13713\n\\item 22\n\\end{enumerate*}\n",
            "text/plain": [
              "[1] 13713    22"
            ]
          },
          "metadata": {}
        },
        {
          "output_type": "display_data",
          "data": {
            "text/html": [
              "<style>\n",
              ".list-inline {list-style: none; margin:0; padding: 0}\n",
              ".list-inline>li {display: inline-block}\n",
              ".list-inline>li:not(:last-child)::after {content: \"\\00b7\"; padding: 0 .5ex}\n",
              "</style>\n",
              "<ol class=list-inline><li>13838</li><li>22</li></ol>\n"
            ],
            "text/markdown": "1. 13838\n2. 22\n\n\n",
            "text/latex": "\\begin{enumerate*}\n\\item 13838\n\\item 22\n\\end{enumerate*}\n",
            "text/plain": [
              "[1] 13838    22"
            ]
          },
          "metadata": {}
        },
        {
          "output_type": "display_data",
          "data": {
            "text/html": [
              "<style>\n",
              ".list-inline {list-style: none; margin:0; padding: 0}\n",
              ".list-inline>li {display: inline-block}\n",
              ".list-inline>li:not(:last-child)::after {content: \"\\00b7\"; padding: 0 .5ex}\n",
              "</style>\n",
              "<ol class=list-inline><li>20673</li><li>22</li></ol>\n"
            ],
            "text/markdown": "1. 20673\n2. 22\n\n\n",
            "text/latex": "\\begin{enumerate*}\n\\item 20673\n\\item 22\n\\end{enumerate*}\n",
            "text/plain": [
              "[1] 20673    22"
            ]
          },
          "metadata": {}
        }
      ]
    },
    {
      "cell_type": "markdown",
      "source": [
        "first we split our data in 3 part : train test and validation\n",
        "\n",
        "train data have nearly 140,000 row so in some methods to indicate feature importance(like random forest),we have trouble of in processing. so we use train_small group with 50% of training data to have higher speed in some sections later.\n"
      ],
      "metadata": {
        "id": "V9_tj1wDxihC"
      }
    },
    {
      "cell_type": "markdown",
      "source": [
        "The importance of features can be estimated from data by building a model. Some methods like decision trees have a built in mechanism to report on variable importance. For other algorithms, the importance can be estimated using a ROC curve analysis conducted for each attribute.we use both approach.\n"
      ],
      "metadata": {
        "id": "_RBfj97vlzWw"
      }
    },
    {
      "cell_type": "markdown",
      "source": [
        "\n",
        "\n",
        "The varImp is used to estimate the variable importance with ROC curve.\n",
        "\n",
        "For classification, ROC curve analysis is conducted on each predictor. For two class problems, a series of cutoffs is applied to the predictor data to predict the class. The sensitivity and specificity are computed for each cutoff and the ROC curve is computed. The trapezoidal rule is used to compute the area under the ROC curve. This area is used as the measure of variable importance. For multi-class outcomes, the problem is decomposed into all pair-wise problems and the area under the curve is calculated for each class pair (i.e. class 1 vs. class 2, class 2 vs. class 3 etc.). For a specific class, the maximum area under\n",
        "the curve across the relevant pair-wise AUC’s is used as the variable importance measure.\n",
        "\n"
      ],
      "metadata": {
        "id": "p4S-MKzNy8-_"
      }
    },
    {
      "cell_type": "code",
      "source": [
        "model_logistic <- glm(Diabetes ~ ., data = train, family = binomial)\n",
        "variable_importance <- varImp(model_logistic, scale=False)\n",
        "print(variable_importance)"
      ],
      "metadata": {
        "colab": {
          "base_uri": "https://localhost:8080/"
        },
        "id": "l42V-3tNt_9K",
        "outputId": "03f81c7e-af64-4041-c58a-af3e4b36f7ce"
      },
      "execution_count": 88,
      "outputs": [
        {
          "output_type": "stream",
          "name": "stdout",
          "text": [
            "                        Overall\n",
            "HighBP               37.2305634\n",
            "HighChol             33.8271682\n",
            "CholCheck            14.9670678\n",
            "BMI                  50.4509603\n",
            "Smoker                1.8916202\n",
            "Stroke                2.6302553\n",
            "HeartDiseaseorAttack  8.0995658\n",
            "PhysActivity          1.5380107\n",
            "Fruits                1.0837291\n",
            "Veggies               0.8413931\n",
            "HvyAlcoholConsump    16.2864017\n",
            "AnyHealthcare         1.7147629\n",
            "NoDocbcCost           0.6281849\n",
            "GenHlth              49.4018458\n",
            "MentHlth              4.1883717\n",
            "PhysHlth              7.6105538\n",
            "DiffWalk              7.4810264\n",
            "Sex                  14.6615550\n",
            "Age                  33.2144421\n",
            "Education             1.5851513\n",
            "Income                9.0243924\n"
          ]
        }
      ]
    },
    {
      "cell_type": "markdown",
      "source": [
        "The varImp is used with logistic regression model to estimate the variable importance, which is printed. It shows that the \"Age\", \"HighBP\", \"HighChol\" ,\"BMI\" , \"GenHlth\" attributes are the top 5 most important attributes with treshhold 30 in the dataset.\n"
      ],
      "metadata": {
        "id": "r6XtDZV2y2Jp"
      }
    },
    {
      "cell_type": "code",
      "source": [
        "fitknn <- train(Diabetes~. , data=train_small, method=\"knn\")"
      ],
      "metadata": {
        "id": "e8XPavEPk2pT"
      },
      "execution_count": 121,
      "outputs": []
    },
    {
      "cell_type": "code",
      "source": [
        "variable_importance <- varImp(fitknn, scale = FALSE)\n",
        "print(variable_importance)"
      ],
      "metadata": {
        "colab": {
          "base_uri": "https://localhost:8080/"
        },
        "id": "4v6X-WKAm-nV",
        "outputId": "eaa57688-5255-48b9-c148-61d97871a0c8"
      },
      "execution_count": 124,
      "outputs": [
        {
          "output_type": "stream",
          "name": "stdout",
          "text": [
            "ROC curve variable importance\n",
            "\n",
            "  only 20 most important variables shown (out of 21)\n",
            "\n",
            "                     Importance\n",
            "GenHlth                  0.7096\n",
            "BMI                      0.6771\n",
            "HighBP                   0.6705\n",
            "HighChol                 0.6395\n",
            "Age                      0.6350\n",
            "DiffWalk                 0.6085\n",
            "Income                   0.6073\n",
            "PhysHlth                 0.6044\n",
            "Education                0.5749\n",
            "HeartDiseaseorAttack     0.5622\n",
            "PhysActivity             0.5618\n",
            "Smoker                   0.5329\n",
            "Veggies                  0.5289\n",
            "HvyAlcoholConsump        0.5249\n",
            "Stroke                   0.5233\n",
            "CholCheck                0.5220\n",
            "Sex                      0.5190\n",
            "MentHlth                 0.5175\n",
            "Fruits                   0.5120\n",
            "NoDocbcCost              0.5078\n"
          ]
        }
      ]
    },
    {
      "cell_type": "markdown",
      "source": [
        "if we use KNN model for finding the variable importance with varImp, we see that all of the feature have nearly same importance and this is because of kNN consider nearest neighbor and we have 21 feature.knn have poor function in high diamention but we can see that top 5 important feature are the same."
      ],
      "metadata": {
        "id": "VQpRLIE5ztR_"
      }
    },
    {
      "cell_type": "markdown",
      "source": [
        "####**Random forest** :  Random Forest is an ensemble learning method that combines multiple decision trees to make predictions. Each tree is built using a random subset of features, and the final prediction is determined by aggregating the predictions of all individual trees.\n",
        "\n",
        "The feature importance in Random Forest is calculated based on how much each feature contributes to reducing the impurity or error in the model. There are several methods to measure feature importance in Random Forest, including Gini importance and Mean Decrease Impurity (MDI).\n",
        "\n",
        "**Gini importance:** Gini importance measures the total reduction in the Gini impurity index achieved by a particular feature across all the trees in the Random Forest. **A feature with higher Gini importance indicates that it has a more significant influence** on the model's predictions. The Gini importance of a feature is calculated by summing up the Gini importance values across all the trees.\n",
        "\n",
        "**Mean Decrease Impurity (MDI)**: MDI calculates the average decrease in impurity caused by a specific feature when it is chosen as a split in a tree. It considers the number of samples affected by the feature and the improvement in purity resulting from the split. The MDI value of a feature is calculated by averaging the decrease in impurity over all the trees.\n"
      ],
      "metadata": {
        "id": "9ocAUTvb2qb8"
      }
    },
    {
      "cell_type": "code",
      "source": [
        "install.packages(c(\"leaps\", \"MASS\"))\n",
        "library(randomForest)\n",
        "library(leaps)\n",
        "library(MASS)\n",
        "variable_importance_rf <- function(d) {\n",
        "  d <- as.data.frame(d)\n",
        "\n",
        "  model <- randomForest(Diabetes ~ ., data = d, importance = TRUE)\n",
        "\n",
        "  print(importance(model))\n",
        "}\n"
      ],
      "metadata": {
        "id": "9kris4UzRHcM",
        "colab": {
          "base_uri": "https://localhost:8080/"
        },
        "outputId": "98a72097-5058-4d0c-efac-2484fb388844"
      },
      "execution_count": 125,
      "outputs": [
        {
          "output_type": "stream",
          "name": "stderr",
          "text": [
            "Installing packages into ‘/usr/local/lib/R/site-library’\n",
            "(as ‘lib’ is unspecified)\n",
            "\n"
          ]
        }
      ]
    },
    {
      "cell_type": "code",
      "source": [
        "variable_importance_rf(train_small)\n"
      ],
      "metadata": {
        "colab": {
          "base_uri": "https://localhost:8080/"
        },
        "id": "4FayJWJinKo_",
        "outputId": "bef68f5b-3fc1-49d4-881a-c5082ca3e8c0"
      },
      "execution_count": 129,
      "outputs": [
        {
          "output_type": "stream",
          "name": "stdout",
          "text": [
            "                              0           1 MeanDecreaseAccuracy\n",
            "HighBP               -26.778917  87.6624536            30.038782\n",
            "HighChol             -11.914835  72.4226623            29.388451\n",
            "CholCheck            -14.484991  29.1355224             4.246704\n",
            "BMI                   12.000981 102.7447584            65.549534\n",
            "Smoker                 8.652333  -7.5381235             3.751516\n",
            "Stroke                 9.893826  10.7953460            14.646983\n",
            "HeartDiseaseorAttack  18.009702  29.1364845            31.086820\n",
            "PhysActivity           3.963712   5.0784561             6.426099\n",
            "Fruits                 9.101084  -6.0607104             4.805489\n",
            "Veggies                8.038885  -2.8976675             5.539876\n",
            "HvyAlcoholConsump     -4.959890  27.6575612            10.171092\n",
            "AnyHealthcare         25.334295 -14.1841018            17.171492\n",
            "NoDocbcCost           25.373048  -9.6290062            18.474954\n",
            "GenHlth               52.806109  66.0204786            85.762542\n",
            "MentHlth              19.504132  -8.9894068            13.458310\n",
            "PhysHlth              47.745044 -17.5654369            36.652032\n",
            "DiffWalk              23.634342  22.3218298            36.138782\n",
            "Sex                   17.265009  -0.2998077            15.345202\n",
            "Age                   39.222488  35.9387174            54.508655\n",
            "Education             21.272886  -7.6310788            15.757011\n",
            "Income                31.726429   4.4652081            30.903433\n",
            "                     MeanDecreaseGini\n",
            "HighBP                      694.82009\n",
            "HighChol                    469.14281\n",
            "CholCheck                    60.54355\n",
            "BMI                        2347.55745\n",
            "Smoker                      432.49549\n",
            "Stroke                      200.89370\n",
            "HeartDiseaseorAttack        302.58076\n",
            "PhysActivity                365.25014\n",
            "Fruits                      433.14362\n",
            "Veggies                     370.96253\n",
            "HvyAlcoholConsump           125.14150\n",
            "AnyHealthcare               136.55783\n",
            "NoDocbcCost                 229.92094\n",
            "GenHlth                    1150.75100\n",
            "MentHlth                    903.45400\n",
            "PhysHlth                   1141.74923\n",
            "DiffWalk                    409.61298\n",
            "Sex                         405.17563\n",
            "Age                        1575.00666\n",
            "Education                   920.36704\n",
            "Income                     1256.62776\n"
          ]
        }
      ]
    },
    {
      "cell_type": "markdown",
      "source": [
        "with random forest result top 5 feature with gini index are :\n",
        "BMI, GenHlth, PhysHlth, Age, Income\n",
        "and with MDI feature is:\n",
        "BMI,Age,GenHlth, DiffWalk,PhysHlth"
      ],
      "metadata": {
        "id": "yuypBA1G4AHt"
      }
    },
    {
      "cell_type": "markdown",
      "source": [
        "we use forward and backward subset selection too , this help us to find best subset of feature."
      ],
      "metadata": {
        "id": "j2yA8v2N5qh0"
      }
    },
    {
      "cell_type": "code",
      "source": [
        "variable_importance_forward <- function(d) {\n",
        "  d <- as.data.frame(d)\n",
        "  model <- regsubsets(Diabetes ~ ., data = d, method = \"forward\")\n",
        "  results <- summary(model)\n",
        "  print(results$which)\n",
        "}\n",
        "variable_importance_backward <- function(d) {\n",
        "  d <- as.data.frame(d)\n",
        "  model <- regsubsets(Diabetes ~ ., data = d, method = \"backward\")\n",
        "  results <- summary(model)\n",
        "  print(results$which)\n",
        "}\n"
      ],
      "metadata": {
        "id": "mnUBt8X93zZa"
      },
      "execution_count": null,
      "outputs": []
    },
    {
      "cell_type": "code",
      "source": [
        "variable_importance_backward(train)"
      ],
      "metadata": {
        "colab": {
          "base_uri": "https://localhost:8080/"
        },
        "id": "7bW3VPWJRg2b",
        "outputId": "1fb7bdd3-d806-4488-89de-bbfcf49a768a"
      },
      "execution_count": null,
      "outputs": [
        {
          "output_type": "stream",
          "name": "stdout",
          "text": [
            "  (Intercept) HighBP HighChol CholCheck   BMI Smoker Stroke\n",
            "1        TRUE  FALSE    FALSE     FALSE FALSE  FALSE  FALSE\n",
            "2        TRUE   TRUE    FALSE     FALSE FALSE  FALSE  FALSE\n",
            "3        TRUE   TRUE    FALSE     FALSE  TRUE  FALSE  FALSE\n",
            "4        TRUE   TRUE    FALSE     FALSE  TRUE  FALSE  FALSE\n",
            "5        TRUE   TRUE     TRUE     FALSE  TRUE  FALSE  FALSE\n",
            "6        TRUE   TRUE     TRUE     FALSE  TRUE  FALSE  FALSE\n",
            "7        TRUE   TRUE     TRUE     FALSE  TRUE  FALSE  FALSE\n",
            "8        TRUE   TRUE     TRUE     FALSE  TRUE  FALSE  FALSE\n",
            "  HeartDiseaseorAttack PhysActivity Fruits Veggies HvyAlcoholConsump\n",
            "1                FALSE        FALSE  FALSE   FALSE             FALSE\n",
            "2                FALSE        FALSE  FALSE   FALSE             FALSE\n",
            "3                FALSE        FALSE  FALSE   FALSE             FALSE\n",
            "4                FALSE        FALSE  FALSE   FALSE             FALSE\n",
            "5                FALSE        FALSE  FALSE   FALSE             FALSE\n",
            "6                 TRUE        FALSE  FALSE   FALSE             FALSE\n",
            "7                 TRUE        FALSE  FALSE   FALSE             FALSE\n",
            "8                 TRUE        FALSE  FALSE   FALSE              TRUE\n",
            "  AnyHealthcare NoDocbcCost GenHlth MentHlth PhysHlth DiffWalk   Sex   Age\n",
            "1         FALSE       FALSE    TRUE    FALSE    FALSE    FALSE FALSE FALSE\n",
            "2         FALSE       FALSE    TRUE    FALSE    FALSE    FALSE FALSE FALSE\n",
            "3         FALSE       FALSE    TRUE    FALSE    FALSE    FALSE FALSE FALSE\n",
            "4         FALSE       FALSE    TRUE    FALSE    FALSE    FALSE FALSE  TRUE\n",
            "5         FALSE       FALSE    TRUE    FALSE    FALSE    FALSE FALSE  TRUE\n",
            "6         FALSE       FALSE    TRUE    FALSE    FALSE    FALSE FALSE  TRUE\n",
            "7         FALSE       FALSE    TRUE    FALSE    FALSE    FALSE FALSE  TRUE\n",
            "8         FALSE       FALSE    TRUE    FALSE    FALSE    FALSE FALSE  TRUE\n",
            "  Education Income\n",
            "1     FALSE  FALSE\n",
            "2     FALSE  FALSE\n",
            "3     FALSE  FALSE\n",
            "4     FALSE  FALSE\n",
            "5     FALSE  FALSE\n",
            "6     FALSE  FALSE\n",
            "7     FALSE   TRUE\n",
            "8     FALSE   TRUE\n"
          ]
        }
      ]
    },
    {
      "cell_type": "code",
      "source": [
        "variable_importance_forward(train)"
      ],
      "metadata": {
        "colab": {
          "base_uri": "https://localhost:8080/"
        },
        "id": "HyFmIw-Vktg0",
        "outputId": "27144685-fb5d-48f0-b175-5d80296b8fcc"
      },
      "execution_count": null,
      "outputs": [
        {
          "output_type": "stream",
          "name": "stdout",
          "text": [
            "  (Intercept) HighBP HighChol CholCheck   BMI Smoker Stroke\n",
            "1        TRUE  FALSE    FALSE     FALSE FALSE  FALSE  FALSE\n",
            "2        TRUE   TRUE    FALSE     FALSE FALSE  FALSE  FALSE\n",
            "3        TRUE   TRUE    FALSE     FALSE  TRUE  FALSE  FALSE\n",
            "4        TRUE   TRUE    FALSE     FALSE  TRUE  FALSE  FALSE\n",
            "5        TRUE   TRUE     TRUE     FALSE  TRUE  FALSE  FALSE\n",
            "6        TRUE   TRUE     TRUE     FALSE  TRUE  FALSE  FALSE\n",
            "7        TRUE   TRUE     TRUE     FALSE  TRUE  FALSE  FALSE\n",
            "8        TRUE   TRUE     TRUE     FALSE  TRUE  FALSE  FALSE\n",
            "  HeartDiseaseorAttack PhysActivity Fruits Veggies HvyAlcoholConsump\n",
            "1                FALSE        FALSE  FALSE   FALSE             FALSE\n",
            "2                FALSE        FALSE  FALSE   FALSE             FALSE\n",
            "3                FALSE        FALSE  FALSE   FALSE             FALSE\n",
            "4                FALSE        FALSE  FALSE   FALSE             FALSE\n",
            "5                FALSE        FALSE  FALSE   FALSE             FALSE\n",
            "6                 TRUE        FALSE  FALSE   FALSE             FALSE\n",
            "7                 TRUE        FALSE  FALSE   FALSE             FALSE\n",
            "8                 TRUE        FALSE  FALSE   FALSE              TRUE\n",
            "  AnyHealthcare NoDocbcCost GenHlth MentHlth PhysHlth DiffWalk   Sex   Age\n",
            "1         FALSE       FALSE    TRUE    FALSE    FALSE    FALSE FALSE FALSE\n",
            "2         FALSE       FALSE    TRUE    FALSE    FALSE    FALSE FALSE FALSE\n",
            "3         FALSE       FALSE    TRUE    FALSE    FALSE    FALSE FALSE FALSE\n",
            "4         FALSE       FALSE    TRUE    FALSE    FALSE    FALSE FALSE  TRUE\n",
            "5         FALSE       FALSE    TRUE    FALSE    FALSE    FALSE FALSE  TRUE\n",
            "6         FALSE       FALSE    TRUE    FALSE    FALSE    FALSE FALSE  TRUE\n",
            "7         FALSE       FALSE    TRUE    FALSE    FALSE    FALSE FALSE  TRUE\n",
            "8         FALSE       FALSE    TRUE    FALSE    FALSE    FALSE FALSE  TRUE\n",
            "  Education Income\n",
            "1     FALSE  FALSE\n",
            "2     FALSE  FALSE\n",
            "3     FALSE  FALSE\n",
            "4     FALSE  FALSE\n",
            "5     FALSE  FALSE\n",
            "6     FALSE  FALSE\n",
            "7     FALSE   TRUE\n",
            "8     FALSE   TRUE\n"
          ]
        }
      ]
    },
    {
      "cell_type": "markdown",
      "source": [
        "in conclusion, by considering result of all appraoch before, we choose listed features below and find best model with them for next part.\n",
        " \"Age\", \"HighBP\", \"HighChol\" ,\"BMI\" , \"GenHlth\""
      ],
      "metadata": {
        "id": "aGVwKBBO6uZY"
      }
    },
    {
      "cell_type": "markdown",
      "source": [
        "### Q4\n",
        "in this part first we do feature selection that we find in previous part"
      ],
      "metadata": {
        "id": "xWNpNJAn8LmK"
      }
    },
    {
      "cell_type": "code",
      "source": [
        "train = train[, c(\"Diabetes\",\"Age\", \"HighBP\", \"HighChol\" ,\"BMI\" , \"GenHlth\")]\n",
        "test = test[, c(\"Diabetes\",\"Age\", \"HighBP\", \"HighChol\" ,\"BMI\" , \"GenHlth\")]\n",
        "val = val[, c(\"Diabetes\",\"Age\", \"HighBP\", \"HighChol\" ,\"BMI\" , \"GenHlth\")]\n",
        "train_val = train_val[, c(\"Diabetes\",\"Age\", \"HighBP\", \"HighChol\" ,\"BMI\" , \"GenHlth\")]"
      ],
      "metadata": {
        "id": "5FRTOWYY7hOl"
      },
      "execution_count": 160,
      "outputs": []
    },
    {
      "cell_type": "code",
      "source": [
        "dim(train)\n",
        "dim(test)\n",
        "dim(val)"
      ],
      "metadata": {
        "colab": {
          "base_uri": "https://localhost:8080/",
          "height": 69
        },
        "id": "cW2TAGZH7_k6",
        "outputId": "2025c815-21b5-4688-dc7b-d3176e35bab0"
      },
      "execution_count": 149,
      "outputs": [
        {
          "output_type": "display_data",
          "data": {
            "text/html": [
              "<style>\n",
              ".list-inline {list-style: none; margin:0; padding: 0}\n",
              ".list-inline>li {display: inline-block}\n",
              ".list-inline>li:not(:last-child)::after {content: \"\\00b7\"; padding: 0 .5ex}\n",
              "</style>\n",
              "<ol class=list-inline><li>137746</li><li>6</li></ol>\n"
            ],
            "text/markdown": "1. 137746\n2. 6\n\n\n",
            "text/latex": "\\begin{enumerate*}\n\\item 137746\n\\item 6\n\\end{enumerate*}\n",
            "text/plain": [
              "[1] 137746      6"
            ]
          },
          "metadata": {}
        },
        {
          "output_type": "display_data",
          "data": {
            "text/html": [
              "<style>\n",
              ".list-inline {list-style: none; margin:0; padding: 0}\n",
              ".list-inline>li {display: inline-block}\n",
              ".list-inline>li:not(:last-child)::after {content: \"\\00b7\"; padding: 0 .5ex}\n",
              "</style>\n",
              "<ol class=list-inline><li>46000</li><li>6</li></ol>\n"
            ],
            "text/markdown": "1. 46000\n2. 6\n\n\n",
            "text/latex": "\\begin{enumerate*}\n\\item 46000\n\\item 6\n\\end{enumerate*}\n",
            "text/plain": [
              "[1] 46000     6"
            ]
          },
          "metadata": {}
        },
        {
          "output_type": "display_data",
          "data": {
            "text/html": [
              "<style>\n",
              ".list-inline {list-style: none; margin:0; padding: 0}\n",
              ".list-inline>li {display: inline-block}\n",
              ".list-inline>li:not(:last-child)::after {content: \"\\00b7\"; padding: 0 .5ex}\n",
              "</style>\n",
              "<ol class=list-inline><li>45728</li><li>6</li></ol>\n"
            ],
            "text/markdown": "1. 45728\n2. 6\n\n\n",
            "text/latex": "\\begin{enumerate*}\n\\item 45728\n\\item 6\n\\end{enumerate*}\n",
            "text/plain": [
              "[1] 45728     6"
            ]
          },
          "metadata": {}
        }
      ]
    },
    {
      "cell_type": "code",
      "source": [
        "sample <- sample(c(TRUE, FALSE), nrow(train), replace=TRUE, prob=c(0.01,0.99))\n",
        "train_small  <- train[sample, ]"
      ],
      "metadata": {
        "id": "4aJ6ktFtYkh8"
      },
      "execution_count": 150,
      "outputs": []
    },
    {
      "cell_type": "code",
      "source": [
        "dim(train_small)"
      ],
      "metadata": {
        "colab": {
          "base_uri": "https://localhost:8080/",
          "height": 34
        },
        "id": "1gOv5MWf6IEJ",
        "outputId": "d5d5b890-8972-4d8e-9425-4b07980727c6"
      },
      "execution_count": 151,
      "outputs": [
        {
          "output_type": "display_data",
          "data": {
            "text/html": [
              "<style>\n",
              ".list-inline {list-style: none; margin:0; padding: 0}\n",
              ".list-inline>li {display: inline-block}\n",
              ".list-inline>li:not(:last-child)::after {content: \"\\00b7\"; padding: 0 .5ex}\n",
              "</style>\n",
              "<ol class=list-inline><li>1339</li><li>6</li></ol>\n"
            ],
            "text/markdown": "1. 1339\n2. 6\n\n\n",
            "text/latex": "\\begin{enumerate*}\n\\item 1339\n\\item 6\n\\end{enumerate*}\n",
            "text/plain": [
              "[1] 1339    6"
            ]
          },
          "metadata": {}
        }
      ]
    },
    {
      "cell_type": "markdown",
      "source": [
        "we run different model in very small scale (1%)traing data and test in validation set and writing the time to indicate which approach are available by concidering the time and aquracy."
      ],
      "metadata": {
        "id": "OeSO0JGG8X_r"
      }
    },
    {
      "cell_type": "markdown",
      "source": [
        "here is a function in R that uses different classification methods: Logistic Regression, Decision Trees, SVM and KNN. It uses the caret package to train the models and calculate their precision and accuracy."
      ],
      "metadata": {
        "id": "7Xco3T_B-C-D"
      }
    },
    {
      "cell_type": "code",
      "source": [
        "# Install the necessary packages\n",
        "#install.packages(\"naivebayes\")\n",
        "\n",
        "# Load the packages\n",
        "library(caret)\n",
        "library(e1071)\n",
        "library(randomForest)\n",
        "library(rpart)\n",
        "library(class)\n",
        "library(naivebayes)\n",
        "\n",
        "# Define the function\n",
        "classification_models <- function(train,val, models) {\n",
        "  # Loop over the models\n",
        "  for(model in models) {\n",
        "    set.seed(123)\n",
        "    st = Sys.time()\n",
        "    fit <- train(Diabetes ~ ., data=train, method=model)\n",
        "    predictions <- predict(fit, newdata=val)\n",
        "    confusionMatrix <- confusionMatrix(predictions, val$Diabetes)\n",
        "    print(paste(\"Model:\", model))\n",
        "    print(paste(\"Accuracy:\", confusionMatrix$overall['Accuracy']))\n",
        "    print(paste(\"Precision:\", confusionMatrix$byClass['Pos Pred Value']))\n",
        "    print (st)\n",
        "    print(Sys.time())\n",
        "  }\n",
        "}\n",
        "\n"
      ],
      "metadata": {
        "id": "l0dVIFyOY08z"
      },
      "execution_count": 93,
      "outputs": []
    },
    {
      "cell_type": "code",
      "source": [
        "#models <- c(\"glm\", \"rpart\", \"svmRadial\", \"knn\", \"nb\")\n",
        "models <- c(\"glm\")\n",
        "classification_models(train_small, val, models)\n"
      ],
      "metadata": {
        "colab": {
          "base_uri": "https://localhost:8080/"
        },
        "id": "dg2T_KXC6VGK",
        "outputId": "73af4ced-2d71-49d9-d9cc-d3af8683fa05"
      },
      "execution_count": 94,
      "outputs": [
        {
          "output_type": "stream",
          "name": "stdout",
          "text": [
            "[1] \"Model: glm\"\n",
            "[1] \"Accuracy: 0.845608817354794\"\n",
            "[1] \"Precision: 0.868149730633476\"\n",
            "[1] \"2023-07-04 04:16:53 UTC\"\n",
            "[1] \"2023-07-04 04:16:54 UTC\"\n"
          ]
        }
      ]
    },
    {
      "cell_type": "code",
      "source": [
        "#models <- c(\"glm\", \"rpart\", \"svmRadial\", \"knn\", \"nb\")\n",
        "models <- c(\"rpart\")\n",
        "\n",
        "\n",
        "classification_models(train_small, val, models)\n"
      ],
      "metadata": {
        "colab": {
          "base_uri": "https://localhost:8080/"
        },
        "id": "Xb9BaXib8bY2",
        "outputId": "3d42dadf-51f7-4d72-abd1-86f4f1731e13"
      },
      "execution_count": 33,
      "outputs": [
        {
          "output_type": "stream",
          "name": "stdout",
          "text": [
            "[1] \"Model: rpart\"\n",
            "[1] \"Accuracy: 0.842547235829251\"\n",
            "[1] \"Precision: 0.865353455858525\"\n",
            "[1] \"2023-07-04 03:28:33 UTC\"\n",
            "[1] \"2023-07-04 03:28:34 UTC\"\n"
          ]
        }
      ]
    },
    {
      "cell_type": "code",
      "source": [
        "#models <- c(\"glm\", \"rpart\", \"svmRadial\", \"knn\", \"nb\")\n",
        "models <- c(\"knn\")\n",
        "\n",
        "\n",
        "classification_models(train_small, val, models)\n"
      ],
      "metadata": {
        "colab": {
          "base_uri": "https://localhost:8080/"
        },
        "id": "wz5R4VAu8g5R",
        "outputId": "16642b36-d60f-4731-a375-920f4b7c0548"
      },
      "execution_count": 35,
      "outputs": [
        {
          "output_type": "stream",
          "name": "stdout",
          "text": [
            "[1] \"Model: knn\"\n",
            "[1] \"Accuracy: 0.838938943317005\"\n",
            "[1] \"Precision: 0.868830894270748\"\n",
            "[1] \"2023-07-04 03:29:47 UTC\"\n",
            "[1] \"2023-07-04 03:29:51 UTC\"\n"
          ]
        }
      ]
    },
    {
      "cell_type": "code",
      "source": [
        "#models <- c(\"glm\", \"rpart\", \"knn\", \"rf\")\n",
        "models <- c(\"rf\")\n",
        "\n",
        "\n",
        "classification_models(train_small, val, models)\n"
      ],
      "metadata": {
        "colab": {
          "base_uri": "https://localhost:8080/"
        },
        "id": "EU1tBbRG8gnv",
        "outputId": "862d92f6-9b09-4ce3-cb2a-b510f7838cbc"
      },
      "execution_count": 37,
      "outputs": [
        {
          "output_type": "stream",
          "name": "stdout",
          "text": [
            "[1] \"Model: rf\"\n",
            "[1] \"Accuracy: 0.838807732680196\"\n",
            "[1] \"Precision: 0.869855106608552\"\n",
            "[1] \"2023-07-04 03:37:51 UTC\"\n",
            "[1] \"2023-07-04 03:38:37 UTC\"\n"
          ]
        }
      ]
    },
    {
      "cell_type": "code",
      "source": [
        "st = Sys.time()\n",
        "\n",
        "fit = svm(formula = Diabetes ~ ., data = train_small ,kernel = 'linear')\n",
        "predictions <- predict(fit, newdata=val)\n",
        "confusionMatrix <- confusionMatrix(predictions, val$Diabetes)\n",
        "print(paste(\"Model:\", \"linear SVM\"))\n",
        "print(paste(\"Accuracy:\", confusionMatrix$overall['Accuracy']))\n",
        "print(paste(\"Precision:\", confusionMatrix$byClass['Pos Pred Value']))\n",
        "print (st)\n",
        "print(Sys.time())\n"
      ],
      "metadata": {
        "colab": {
          "base_uri": "https://localhost:8080/"
        },
        "id": "TXhT0X1980f8",
        "outputId": "78f74945-242f-4f43-9fde-07f56932631b"
      },
      "execution_count": 40,
      "outputs": [
        {
          "output_type": "stream",
          "name": "stdout",
          "text": [
            "[1] \"Model: linear SVM\"\n",
            "[1] \"Accuracy: 0.84779566130161\"\n",
            "[1] \"Precision: 0.84779566130161\"\n",
            "[1] \"2023-07-04 03:42:38 UTC\"\n",
            "[1] \"2023-07-04 03:42:39 UTC\"\n"
          ]
        }
      ]
    },
    {
      "cell_type": "markdown",
      "source": [
        "we can see that random forest and knn take a lots of time, and also logistic regression have good accuracy and high speed. so we choose logistic regression.\n"
      ],
      "metadata": {
        "id": "TVVb45vK8zt2"
      }
    },
    {
      "cell_type": "markdown",
      "source": [
        "in logistic reg we have parameter of treshhold so we can try different alpha(tresh hold)for training and test on validation set to find best parameter.\n"
      ],
      "metadata": {
        "id": "ZaJSR0TvA4BW"
      }
    },
    {
      "cell_type": "code",
      "source": [
        "\n",
        "\n",
        "logistic_model <- function(alpha){\n",
        "    logistic_model <- glm(Diabetes ~ . , data = train, family = \"binomial\")\n",
        "    predict_reg <- predict(logistic_model, val , type = \"response\")\n",
        "    predictions <- ifelse(predict_reg >alpha, 1, 0)\n",
        "\n",
        "    confusionMatrix <- confusionMatrix(as.factor(predictions), as.factor(val$Diabetes))\n",
        "    print(paste(\"alpha:\", alpha))\n",
        "    print(paste(\"Accuracy:\", confusionMatrix$overall['Accuracy']))\n",
        "    print(paste(\"Precision:\", confusionMatrix$byClass['Pos Pred Value']))\n",
        "}"
      ],
      "metadata": {
        "id": "itmRJD1q_tiO"
      },
      "execution_count": 99,
      "outputs": []
    },
    {
      "cell_type": "code",
      "source": [
        "start = 0.2\n",
        "end = 0.9\n",
        "step = 0.03\n",
        "mylist = seq(start, end, by = step)\n",
        "for (i in mylist){\n",
        "    print(paste(\"alpha: \", i))\n",
        "    logistic_model(i)\n",
        "}"
      ],
      "metadata": {
        "colab": {
          "base_uri": "https://localhost:8080/"
        },
        "id": "L66ZeqAKCGGi",
        "outputId": "b168eb1c-fd5c-4100-fa12-1a689c78cfb4"
      },
      "execution_count": 100,
      "outputs": [
        {
          "output_type": "stream",
          "name": "stdout",
          "text": [
            "[1] \"alpha:  0.2\"\n",
            "[1] \"alpha: 0.2\"\n",
            "[1] \"Accuracy: 0.761918299510147\"\n",
            "[1] \"Precision: 0.925054120803732\"\n",
            "[1] \"alpha:  0.23\"\n",
            "[1] \"alpha: 0.23\"\n",
            "[1] \"Accuracy: 0.783917949615116\"\n",
            "[1] \"Precision: 0.914602290667968\"\n",
            "[1] \"alpha:  0.26\"\n",
            "[1] \"alpha: 0.26\"\n",
            "[1] \"Accuracy: 0.803249650104969\"\n",
            "[1] \"Precision: 0.906319093762795\"\n",
            "[1] \"alpha:  0.29\"\n",
            "[1] \"alpha: 0.29\"\n",
            "[1] \"Accuracy: 0.816589398180546\"\n",
            "[1] \"Precision: 0.898376648920826\"\n",
            "[1] \"alpha:  0.32\"\n",
            "[1] \"alpha: 0.32\"\n",
            "[1] \"Accuracy: 0.826955038488453\"\n",
            "[1] \"Precision: 0.890935813293465\"\n",
            "[1] \"alpha:  0.35\"\n",
            "[1] \"alpha: 0.35\"\n",
            "[1] \"Accuracy: 0.834259097270819\"\n",
            "[1] \"Precision: 0.88431870271336\"\n",
            "[1] \"alpha:  0.38\"\n",
            "[1] \"alpha: 0.38\"\n",
            "[1] \"Accuracy: 0.839223233030091\"\n",
            "[1] \"Precision: 0.878360150303497\"\n",
            "[1] \"alpha:  0.41\"\n",
            "[1] \"alpha: 0.41\"\n",
            "[1] \"Accuracy: 0.843553184044787\"\n",
            "[1] \"Precision: 0.873634945397816\"\n",
            "[1] \"alpha:  0.44\"\n",
            "[1] \"alpha: 0.44\"\n",
            "[1] \"Accuracy: 0.846549160251924\"\n",
            "[1] \"Precision: 0.86942964186815\"\n",
            "[1] \"alpha:  0.47\"\n",
            "[1] \"alpha: 0.47\"\n",
            "[1] \"Accuracy: 0.848298635409377\"\n",
            "[1] \"Precision: 0.86566341183228\"\n",
            "[1] \"alpha:  0.5\"\n",
            "[1] \"alpha: 0.5\"\n",
            "[1] \"Accuracy: 0.849020293911826\"\n",
            "[1] \"Precision: 0.862156755773777\"\n",
            "[1] \"alpha:  0.53\"\n",
            "[1] \"alpha: 0.53\"\n",
            "[1] \"Accuracy: 0.849982505248425\"\n",
            "[1] \"Precision: 0.859372888228139\"\n",
            "[1] \"alpha:  0.56\"\n",
            "[1] \"alpha: 0.56\"\n",
            "[1] \"Accuracy: 0.849960636808957\"\n",
            "[1] \"Precision: 0.856765883221146\"\n",
            "[1] \"alpha:  0.59\"\n",
            "[1] \"alpha: 0.59\"\n",
            "[1] \"Accuracy: 0.849479531140658\"\n",
            "[1] \"Precision: 0.854569312545871\"\n",
            "[1] \"alpha:  0.62\"\n",
            "[1] \"alpha: 0.62\"\n",
            "[1] \"Accuracy: 0.848998425472358\"\n",
            "[1] \"Precision: 0.852412237042936\"\n",
            "[1] \"alpha:  0.65\"\n",
            "[1] \"alpha: 0.65\"\n",
            "[1] \"Accuracy: 0.848276766969909\"\n",
            "[1] \"Precision: 0.850859788359788\"\n",
            "[1] \"alpha:  0.68\"\n",
            "[1] \"alpha: 0.68\"\n",
            "[1] \"Accuracy: 0.8481455563331\"\n",
            "[1] \"Precision: 0.849945018693644\"\n",
            "[1] \"alpha:  0.71\"\n",
            "[1] \"alpha: 0.71\"\n",
            "[1] \"Accuracy: 0.847926871938418\"\n",
            "[1] \"Precision: 0.849297321036452\"\n",
            "[1] \"alpha:  0.74\"\n",
            "[1] \"alpha: 0.74\"\n",
            "[1] \"Accuracy: 0.847883135059482\"\n",
            "[1] \"Precision: 0.848754604455359\"\n",
            "[1] \"alpha:  0.77\"\n",
            "[1] \"alpha: 0.77\"\n",
            "[1] \"Accuracy: 0.847730055983205\"\n",
            "[1] \"Precision: 0.848410490108012\"\n",
            "[1] \"alpha:  0.8\"\n",
            "[1] \"alpha: 0.8\"\n",
            "[1] \"Accuracy: 0.847773792862141\"\n",
            "[1] \"Precision: 0.848203533816478\"\n",
            "[1] \"alpha:  0.83\"\n",
            "[1] \"alpha: 0.83\"\n",
            "[1] \"Accuracy: 0.847751924422673\"\n",
            "[1] \"Precision: 0.848017331932773\"\n",
            "[1] \"alpha:  0.86\"\n",
            "[1] \"alpha: 0.86\"\n",
            "[1] \"Accuracy: 0.847730055983205\"\n",
            "[1] \"Precision: 0.847907414294778\"\n",
            "[1] \"alpha:  0.89\"\n",
            "[1] \"alpha: 0.89\"\n",
            "[1] \"Accuracy: 0.847751924422673\"\n",
            "[1] \"Precision: 0.84788029925187\"\n"
          ]
        }
      ]
    },
    {
      "cell_type": "markdown",
      "source": [
        "we can see that we have highest accuery on validation set with alpha 0.56 so we do training on validation+training set and indicate final report by testing on test set that don't use in any observation and anylising"
      ],
      "metadata": {
        "id": "BcmomRFidj3G"
      }
    },
    {
      "cell_type": "code",
      "source": [
        "alpha  = 0.56\n",
        "logistic_model <- glm(Diabetes ~ . , data = train_val, family = \"binomial\")\n",
        "predict_reg <- predict(logistic_model, test , type = \"response\")\n",
        "predictions <- ifelse(predict_reg >alpha, 1, 0)\n",
        "\n",
        "confusionMatrix <- confusionMatrix(as.factor(predictions), as.factor(test$Diabetes))\n",
        "print(paste(\"alpha:\", alpha))\n",
        "print(paste(\"Accuracy:\", confusionMatrix$overall['Accuracy']))\n",
        "print(paste(\"Precision:\", confusionMatrix$byClass['Pos Pred Value']))\n",
        "\n"
      ],
      "metadata": {
        "id": "8bDUJECKZ4Z3",
        "colab": {
          "base_uri": "https://localhost:8080/"
        },
        "outputId": "50800ad6-eb76-4652-9dd1-74eb43705c0c"
      },
      "execution_count": 161,
      "outputs": [
        {
          "output_type": "stream",
          "name": "stdout",
          "text": [
            "[1] \"alpha: 0.56\"\n",
            "[1] \"Accuracy: 0.738112443994797\"\n",
            "[1] \"Precision: 0.720484915277586\"\n"
          ]
        }
      ]
    },
    {
      "cell_type": "code",
      "source": [
        "ROCPred <- prediction(predictions, test$Diabetes)\n",
        "ROCPer <- performance(ROCPred, measure = \"tpr\",\n",
        "                             x.measure = \"fpr\")\n",
        "\n",
        "auc <- performance(ROCPred, measure = \"auc\")\n",
        "auc <- auc@y.values[[1]]\n",
        "auc\n",
        "\n"
      ],
      "metadata": {
        "colab": {
          "base_uri": "https://localhost:8080/",
          "height": 34
        },
        "id": "R4OHd2bDiW9V",
        "outputId": "34690259-75ff-40dc-d092-c763fd9f9cb8"
      },
      "execution_count": 162,
      "outputs": [
        {
          "output_type": "display_data",
          "data": {
            "text/html": [
              "0.738490265853734"
            ],
            "text/markdown": "0.738490265853734",
            "text/latex": "0.738490265853734",
            "text/plain": [
              "[1] 0.7384903"
            ]
          },
          "metadata": {}
        }
      ]
    },
    {
      "cell_type": "code",
      "source": [
        "# ROC-AUC Curve\n",
        "\n",
        "library(caTools)\n",
        "library(ROCR)\n",
        "\n",
        "plot(ROCPer)\n",
        "plot(ROCPer, colorize = TRUE,\n",
        "     print.cutoffs.at = seq(0.1, by = 0.1),\n",
        "     main = \"ROC CURVE\")\n",
        "abline(a = 0, b = 1)\n",
        "\n",
        "auc <- round(auc, 4)\n",
        "legend(.6, .4, auc, title = \"AUC\", cex = 1)"
      ],
      "metadata": {
        "id": "8SoY9j9eg-kq",
        "colab": {
          "base_uri": "https://localhost:8080/",
          "height": 857
        },
        "outputId": "00336a5d-3a98-4361-f5e0-6c5f2301320f"
      },
      "execution_count": 163,
      "outputs": [
        {
          "output_type": "display_data",
          "data": {
            "text/plain": [
              "plot without title"
            ],
            "image/png": "[encoded data removed]"
          },
          "metadata": {
            "image/png": {
              "width": 420,
              "height": 420
            }
          }
        },
        {
          "output_type": "display_data",
          "data": {
            "text/plain": [
              "Plot with title “ROC CURVE”"
            ],
            "image/png": "[encoded data removed]"
          },
          "metadata": {
            "image/png": {
              "width": 420,
              "height": 420
            }
          }
        }
      ]
    },
    {
      "cell_type": "markdown",
      "source": [
        "### Q5\n",
        "kNN is nonparametric model and is not good enaugh and have a very high Computational cost because it need to find distance every time and doesnt have very good accuracy .random forest and logistic reg are very good in this case\n",
        "but for random forest we have very high Computational cost for training but it has higher aqquracy.it need a lot of data for training too!\n",
        "if we have trained model, it is better to use RF for predicting but if we don't have model and want to considering training too, it is better to use logistic because it has acceptable accuray."
      ],
      "metadata": {
        "id": "vYZ0hjlU_mNc"
      }
    },
    {
      "cell_type": "markdown",
      "source": [
        "### cell below compute different model but it take alot of time, so i dont run it :)"
      ],
      "metadata": {
        "id": "qNaldjavBIi4"
      }
    },
    {
      "cell_type": "markdown",
      "source": [
        "in this part we use balance data too!\n",
        "it has fewer data so we can use more model and find result on it and compare its aqquracy with prevous part."
      ],
      "metadata": {
        "id": "ozyG9g05B4Qb"
      }
    },
    {
      "cell_type": "code",
      "source": [
        "d <- fread('/content/diabetes_binary_5050split_health_indicators_BRFSS2015.csv', encoding = 'UTF-8')\n",
        "d <- d[!duplicated(d), ]\n",
        "d <- na.omit(d)\n",
        "colnames(d)[1] = \"Diabetes\"\n",
        "d$Diabetes = as.factor(d$Diabetes)\n",
        "\n",
        "\n",
        "d = d[, c(\"Diabetes\",\"Age\", \"HighBP\", \"HighChol\" ,\"BMI\" , \"GenHlth\")]\n",
        "set.seed(1)\n",
        "sample <- sample(c(TRUE, FALSE), nrow(d), replace=TRUE, prob=c(0.8,0.2))\n",
        "train_val  <- d[sample, ]\n",
        "test   <- d[!sample, ]\n",
        "sample <- sample(c(TRUE, FALSE), nrow(train_val), replace=TRUE, prob=c(0.75,0.25))\n",
        "train  <- train_val[sample, ]\n",
        "val  <- train_val[!sample, ]\n",
        "sample <- sample(c(TRUE, FALSE), nrow(train), replace=TRUE, prob=c(0.5,0.5))\n",
        "train_small  <- train[sample, ]\n",
        "\n",
        "dim(train)\n",
        "dim(val)\n",
        "dim(test)\n",
        "dim(train_small)\n"
      ],
      "metadata": {
        "colab": {
          "base_uri": "https://localhost:8080/",
          "height": 86
        },
        "id": "m7fEyvbHB1la",
        "outputId": "b19ed17b-d1ca-41de-95b0-7c6e5bb0727e"
      },
      "execution_count": 158,
      "outputs": [
        {
          "output_type": "display_data",
          "data": {
            "text/html": [
              "<style>\n",
              ".list-inline {list-style: none; margin:0; padding: 0}\n",
              ".list-inline>li {display: inline-block}\n",
              ".list-inline>li:not(:last-child)::after {content: \"\\00b7\"; padding: 0 .5ex}\n",
              "</style>\n",
              "<ol class=list-inline><li>41506</li><li>22</li></ol>\n"
            ],
            "text/markdown": "1. 41506\n2. 22\n\n\n",
            "text/latex": "\\begin{enumerate*}\n\\item 41506\n\\item 22\n\\end{enumerate*}\n",
            "text/plain": [
              "[1] 41506    22"
            ]
          },
          "metadata": {}
        },
        {
          "output_type": "display_data",
          "data": {
            "text/html": [
              "<style>\n",
              ".list-inline {list-style: none; margin:0; padding: 0}\n",
              ".list-inline>li {display: inline-block}\n",
              ".list-inline>li:not(:last-child)::after {content: \"\\00b7\"; padding: 0 .5ex}\n",
              "</style>\n",
              "<ol class=list-inline><li>13713</li><li>22</li></ol>\n"
            ],
            "text/markdown": "1. 13713\n2. 22\n\n\n",
            "text/latex": "\\begin{enumerate*}\n\\item 13713\n\\item 22\n\\end{enumerate*}\n",
            "text/plain": [
              "[1] 13713    22"
            ]
          },
          "metadata": {}
        },
        {
          "output_type": "display_data",
          "data": {
            "text/html": [
              "<style>\n",
              ".list-inline {list-style: none; margin:0; padding: 0}\n",
              ".list-inline>li {display: inline-block}\n",
              ".list-inline>li:not(:last-child)::after {content: \"\\00b7\"; padding: 0 .5ex}\n",
              "</style>\n",
              "<ol class=list-inline><li>13838</li><li>22</li></ol>\n"
            ],
            "text/markdown": "1. 13838\n2. 22\n\n\n",
            "text/latex": "\\begin{enumerate*}\n\\item 13838\n\\item 22\n\\end{enumerate*}\n",
            "text/plain": [
              "[1] 13838    22"
            ]
          },
          "metadata": {}
        },
        {
          "output_type": "display_data",
          "data": {
            "text/html": [
              "<style>\n",
              ".list-inline {list-style: none; margin:0; padding: 0}\n",
              ".list-inline>li {display: inline-block}\n",
              ".list-inline>li:not(:last-child)::after {content: \"\\00b7\"; padding: 0 .5ex}\n",
              "</style>\n",
              "<ol class=list-inline><li>20673</li><li>22</li></ol>\n"
            ],
            "text/markdown": "1. 20673\n2. 22\n\n\n",
            "text/latex": "\\begin{enumerate*}\n\\item 20673\n\\item 22\n\\end{enumerate*}\n",
            "text/plain": [
              "[1] 20673    22"
            ]
          },
          "metadata": {}
        }
      ]
    },
    {
      "cell_type": "code",
      "source": [],
      "metadata": {
        "id": "V9qAGY27Cw4i"
      },
      "execution_count": null,
      "outputs": []
    },
    {
      "cell_type": "code",
      "source": [
        "library(caret)\n",
        "control <- trainControl(method=\"cv\", number=5)\n",
        "metric <- \"Accuracy\"\n",
        "set.seed(3)\n",
        "fit.tree <- train(Diabetes_binary~., data=d2m, method=\"rpart\", metric=metric, trControl=control)\n",
        "set.seed(3)\n",
        "fit.rf <- train(Diabetes_binary~., data=d2m, method=\"rf\", metric=metric, trControl=control, ntree = 60, nodesize = c(1, 5))\n",
        "set.seed(3)\n",
        "fit.knn <- train(Diabetes_binary~., data=d2m, method=\"knn\", metric=metric, trControl=control)\n",
        "set.seed(3)\n",
        "fit.lr <- train(Diabetes_binary~., data=d2m, method=\"glm\", metric=metric, trControl=control)\n",
        "set.seed(3)\n",
        "fit.nb <- train(Diabetes_binary~., data=d2m, method=\"nb\", metric=metric, trControl=control)\n",
        "\n",
        "\n",
        "\n",
        "compare accuracy of models results <- resamples(list(DT=fit.tree, RF=fit.rf, knn=fit.knn, LR=fit.lr, NB=fit.nb)) dotplot(results)\n"
      ],
      "metadata": {
        "id": "W8vxFAcVg_Ai"
      },
      "execution_count": null,
      "outputs": []
    }
  ]
}